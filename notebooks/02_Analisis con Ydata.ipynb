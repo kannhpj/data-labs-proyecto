{
 "cells": [
  {
   "cell_type": "markdown",
   "id": "675dfce7",
   "metadata": {},
   "source": [
    "## ANALISIS CON (ydata-profiling)"
   ]
  },
  {
   "cell_type": "code",
   "execution_count": null,
   "id": "75c74533",
   "metadata": {},
   "outputs": [],
   "source": [
    "from pathlib import Path\n",
    "import pandas as pd\n",
    "\n",
    "# Asumiendo que ejecutas el notebook desde la raíz o desde la carpeta notebooks\n",
    "base_path = Path(\"..\") if Path().cwd().name == \"notebooks\" else Path(\".\")\n",
    "datos_path = base_path / \"datos\" / \"Lifestyle_and_Health_Risk_Prediction_Synthetic_Dataset.csv\"\n",
    "\n",
    "df = pd.read_csv(datos_path)"
   ]
  },
  {
   "cell_type": "code",
   "execution_count": null,
   "id": "c250c59f",
   "metadata": {},
   "outputs": [
    {
     "name": "stderr",
     "output_type": "stream",
     "text": [
      "100%|██████████| 12/12 [00:00<00:00, 104639.60it/s]:00,  8.54it/s, Describe variable: health_risk]\n",
      "Summarize dataset: 100%|██████████| 46/46 [00:03<00:00, 11.73it/s, Completed]                     \n",
      "Generate report structure: 100%|██████████| 1/1 [00:01<00:00,  1.75s/it]\n",
      "Render HTML: 100%|██████████| 1/1 [00:00<00:00,  5.25it/s]\n",
      "Export report to file: 100%|██████████| 1/1 [00:00<00:00, 358.79it/s]"
     ]
    },
    {
     "name": "stdout",
     "output_type": "stream",
     "text": [
      "Informe generado: Informe_Final_Salud.html\n"
     ]
    },
    {
     "name": "stderr",
     "output_type": "stream",
     "text": [
      "\n"
     ]
    }
   ],
   "source": [
    "\n",
    "from ydata_profiling import ProfileReport\n",
    "\n",
    "\n",
    "# Generar informe profesional\n",
    "profile = ProfileReport(\n",
    "    df,\n",
    "    title=\"Análisis Completo: Riesgo de Salud\",\n",
    "    explorative=True,\n",
    "    minimal=False\n",
    ")\n",
    "\n",
    "# Guardar\n",
    "profile.to_file(\"Informe_Final_Salud.html\")\n",
    "\n",
    "print(\"Informe generado: Informe_Final_Salud.html\")"
   ]
  }
 ],
 "metadata": {
  "kernelspec": {
   "display_name": "Proyecto",
   "language": "python",
   "name": "python3"
  },
  "language_info": {
   "codemirror_mode": {
    "name": "ipython",
    "version": 3
   },
   "file_extension": ".py",
   "mimetype": "text/x-python",
   "name": "python",
   "nbconvert_exporter": "python",
   "pygments_lexer": "ipython3",
   "version": "3.13.9"
  }
 },
 "nbformat": 4,
 "nbformat_minor": 5
}
