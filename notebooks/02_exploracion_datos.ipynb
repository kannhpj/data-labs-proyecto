{
 "cells": [
  {
   "cell_type": "markdown",
   "id": "666a4d24",
   "metadata": {},
   "source": [
    "## EXPLORACION DE DATOS"
   ]
  },
  {
   "cell_type": "markdown",
   "id": "b05cdf54",
   "metadata": {},
   "source": [
    "| Columna       | Tipo de Variable          | Descripción Breve |\n",
    "|---------------|---------------------------|-------------------|\n",
    "| `age`         | Numérica entera           | Edad de la persona en años. |\n",
    "| `weight`      | Numérica entera           | Peso de la persona en kilogramos. |\n",
    "| `height`      | Numérica entera           | Altura de la persona en centímetros. |\n",
    "| `exercise`    | Categórica ordinal        | Nivel de ejercicio físico (none, low, medium, high). |\n",
    "| `sleep`       | Numérica continua         | Horas promedio de sueño diario. |\n",
    "| `sugar_intake`| Categórica ordinal        | Nivel de consumo de azúcar (low, medium, high). |\n",
    "| `smoking`     | Categórica binaria        | Indicador de si la persona fuma (yes, no). |\n",
    "| `alcohol`     | Categórica binaria        | Indicador de si la persona consume alcohol (yes, no). |\n",
    "| `married`     | Categórica binaria        | Indicador de si la persona está casada (yes, no). |\n",
    "| `profession`  | Categórica nominal        | Ocupación de la persona (ej. office_worker, teacher, artist). |\n",
    "| `bmi`         | Numérica continua         | Índice de masa corporal calculado. |\n",
    "| `health_risk` | Categórica binaria        | Nivel de riesgo para la salud (low, high). |"
   ]
  },
  {
   "cell_type": "code",
   "execution_count": null,
   "id": "efed9ad2",
   "metadata": {},
   "outputs": [],
   "source": []
  },
  {
   "cell_type": "code",
   "execution_count": 2,
   "id": "ef39c763",
   "metadata": {},
   "outputs": [
    {
     "name": "stdout",
     "output_type": "stream",
     "text": [
      "  ---------------------------------------------   \n",
      "|         Columna          |    Tipo    | Unicos| \n",
      "  ---------------------------------------------   \n"
     ]
    },
    {
     "ename": "NameError",
     "evalue": "name 'archivo' is not defined",
     "output_type": "error",
     "traceback": [
      "\u001b[31m---------------------------------------------------------------------------\u001b[39m",
      "\u001b[31mNameError\u001b[39m                                 Traceback (most recent call last)",
      "\u001b[36mCell\u001b[39m\u001b[36m \u001b[39m\u001b[32mIn[2]\u001b[39m\u001b[32m, line 6\u001b[39m\n\u001b[32m      4\u001b[39m \u001b[38;5;28mprint\u001b[39m(\u001b[33mf\u001b[39m\u001b[33m\"\u001b[39m\u001b[33m|\u001b[39m\u001b[38;5;132;01m{\u001b[39;00m\u001b[33m\"\u001b[39m\u001b[33mColumna\u001b[39m\u001b[33m\"\u001b[39m\u001b[38;5;132;01m:\u001b[39;00m\u001b[33m^25\u001b[39m\u001b[38;5;132;01m}\u001b[39;00m\u001b[33m | \u001b[39m\u001b[38;5;132;01m{\u001b[39;00m\u001b[33m\"\u001b[39m\u001b[33mTipo\u001b[39m\u001b[33m\"\u001b[39m\u001b[38;5;132;01m:\u001b[39;00m\u001b[33m^10\u001b[39m\u001b[38;5;132;01m}\u001b[39;00m\u001b[33m | \u001b[39m\u001b[38;5;132;01m{\u001b[39;00m\u001b[33m\"\u001b[39m\u001b[33mUnicos\u001b[39m\u001b[33m\"\u001b[39m\u001b[38;5;132;01m:\u001b[39;00m\u001b[33m^5\u001b[39m\u001b[38;5;132;01m}\u001b[39;00m\u001b[33m| \u001b[39m\u001b[33m\"\u001b[39m)\n\u001b[32m      5\u001b[39m \u001b[38;5;28mprint\u001b[39m(\u001b[33mf\u001b[39m\u001b[33m\"\u001b[39m\u001b[38;5;132;01m{\u001b[39;00m\u001b[38;5;28mstr\u001b[39m(\u001b[33m\"\u001b[39m\u001b[33m-----\u001b[39m\u001b[33m\"\u001b[39m*\u001b[32m9\u001b[39m)\u001b[38;5;132;01m:\u001b[39;00m\u001b[33m^50\u001b[39m\u001b[38;5;132;01m}\u001b[39;00m\u001b[33m\"\u001b[39m)\n\u001b[32m----> \u001b[39m\u001b[32m6\u001b[39m \u001b[38;5;28;01mfor\u001b[39;00m name_col \u001b[38;5;129;01min\u001b[39;00m \u001b[43marchivo\u001b[49m:\n\u001b[32m      7\u001b[39m     \u001b[38;5;28mprint\u001b[39m(\u001b[33mf\u001b[39m\u001b[33m\"\u001b[39m\u001b[33m|\u001b[39m\u001b[38;5;132;01m{\u001b[39;00mname_col\u001b[38;5;132;01m:\u001b[39;00m\u001b[33m<25\u001b[39m\u001b[38;5;132;01m}\u001b[39;00m\u001b[33m | \u001b[39m\u001b[38;5;132;01m{\u001b[39;00m\u001b[38;5;28mstr\u001b[39m(archivo[name_col].dtype)\u001b[38;5;132;01m:\u001b[39;00m\u001b[33m<10\u001b[39m\u001b[38;5;132;01m}\u001b[39;00m\u001b[33m | \u001b[39m\u001b[38;5;132;01m{\u001b[39;00m\u001b[38;5;28mstr\u001b[39m(archivo[name_col].nunique())\u001b[38;5;132;01m:\u001b[39;00m\u001b[33m<5\u001b[39m\u001b[38;5;132;01m}\u001b[39;00m\u001b[33m |\u001b[39m\u001b[33m\"\u001b[39m)\n\u001b[32m      8\u001b[39m \u001b[38;5;28mprint\u001b[39m(\u001b[33mf\u001b[39m\u001b[33m\"\u001b[39m\u001b[38;5;132;01m{\u001b[39;00m\u001b[38;5;28mstr\u001b[39m(\u001b[33m\"\u001b[39m\u001b[33m-----\u001b[39m\u001b[33m\"\u001b[39m*\u001b[32m9\u001b[39m)\u001b[38;5;132;01m:\u001b[39;00m\u001b[33m^50\u001b[39m\u001b[38;5;132;01m}\u001b[39;00m\u001b[33m\"\u001b[39m)\n",
      "\u001b[31mNameError\u001b[39m: name 'archivo' is not defined"
     ]
    }
   ],
   "source": [
    "# Resumen de las columnas + datos unicos por columna\n",
    "\n",
    "print(f\"{str(\"-----\"*9):^50}\")\n",
    "print(f\"|{\"Columna\":^25} | {\"Tipo\":^10} | {\"Unicos\":^5}| \")\n",
    "print(f\"{str(\"-----\"*9):^50}\")\n",
    "for name_col in archivo:\n",
    "    print(f\"|{name_col:<25} | {str(archivo[name_col].dtype):<10} | {str(archivo[name_col].nunique()):<5} |\")\n",
    "print(f\"{str(\"-----\"*9):^50}\")\n",
    "\n",
    "# valores unicos por columna conteo - columnas categoricas\n",
    "\n",
    "columnas_categoricas = archivo.select_dtypes('object')\n",
    "\n",
    "for columnas in columnas_categoricas:\n",
    "    print(\"\\n Valores unicos\")\n",
    "    print(archivo[columnas].value_counts())\n"
   ]
  }
 ],
 "metadata": {
  "kernelspec": {
   "display_name": "Proyecto",
   "language": "python",
   "name": "python3"
  },
  "language_info": {
   "codemirror_mode": {
    "name": "ipython",
    "version": 3
   },
   "file_extension": ".py",
   "mimetype": "text/x-python",
   "name": "python",
   "nbconvert_exporter": "python",
   "pygments_lexer": "ipython3",
   "version": "3.13.9"
  }
 },
 "nbformat": 4,
 "nbformat_minor": 5
}
