{
 "cells": [
  {
   "cell_type": "markdown",
   "id": "4fa962ca",
   "metadata": {},
   "source": [
    "| Columna       | Tipo de Variable          | Descripción Breve |\n",
    "|---------------|---------------------------|-------------------|\n",
    "| `age`         | Numérica entera           | Edad de la persona en años. |\n",
    "| `weight`      | Numérica entera           | Peso de la persona en kilogramos. |\n",
    "| `height`      | Numérica entera           | Altura de la persona en centímetros. |\n",
    "| `exercise`    | Categórica ordinal        | Nivel de ejercicio físico (none, low, medium, high). |\n",
    "| `sleep`       | Numérica continua         | Horas promedio de sueño diario. |\n",
    "| `sugar_intake`| Categórica ordinal        | Nivel de consumo de azúcar (low, medium, high). |\n",
    "| `smoking`     | Categórica binaria        | Indicador de si la persona fuma (yes, no). |\n",
    "| `alcohol`     | Categórica binaria        | Indicador de si la persona consume alcohol (yes, no). |\n",
    "| `married`     | Categórica binaria        | Indicador de si la persona está casada (yes, no). |\n",
    "| `profession`  | Categórica nominal        | Ocupación de la persona (ej. office_worker, teacher, artist). |\n",
    "| `bmi`         | Numérica continua         | Índice de masa corporal calculado. |\n",
    "| `health_risk` | Categórica binaria        | Nivel de riesgo para la salud (low, high). |"
   ]
  },
  {
   "cell_type": "code",
   "execution_count": 2,
   "id": "39688562",
   "metadata": {},
   "outputs": [],
   "source": [
    "from pathlib import Path\n",
    "import pandas as pd\n",
    "\n",
    "# Asumiendo que ejecutas el notebook desde la raíz o desde la carpeta notebooks\n",
    "base_path = Path(\"..\") if Path().cwd().name == \"notebooks\" else Path(\".\")\n",
    "datos_path = base_path / \"datos\" / \"Lifestyle_and_Health_Risk_Prediction_Synthetic_Dataset.csv\"\n",
    "\n",
    "df = pd.read_csv(datos_path)"
   ]
  },
  {
   "cell_type": "code",
   "execution_count": 6,
   "id": "7e68857c",
   "metadata": {},
   "outputs": [
    {
     "name": "stdout",
     "output_type": "stream",
     "text": [
      "Numero de filas :  5000\n",
      "Numero de columnas :  12\n",
      "Celdas vacias age             0\n",
      "weight          0\n",
      "height          0\n",
      "exercise        0\n",
      "sleep           0\n",
      "sugar_intake    0\n",
      "smoking         0\n",
      "alcohol         0\n",
      "married         0\n",
      "profession      0\n",
      "bmi             0\n",
      "health_risk     0\n",
      "dtype: int64\n"
     ]
    }
   ],
   "source": [
    "# Numero de filas y columnas\n",
    "print(\"Numero de filas : \" , df.shape[0])\n",
    "print(\"Numero de columnas : \" , df.shape[1])\n",
    "# Celdas vacias\n",
    "print('Celdas vacias' , df.isnull().sum())"
   ]
  },
  {
   "cell_type": "code",
   "execution_count": 8,
   "id": "1e00173d",
   "metadata": {},
   "outputs": [
    {
     "name": "stdout",
     "output_type": "stream",
     "text": [
      "  ---------------------------------------------   \n",
      "|         Columna          |    Tipo    | Unicos| \n",
      "  ---------------------------------------------   \n",
      "|age                       | int64      | 62    |\n",
      "|weight                    | int64      | 65    |\n",
      "|height                    | int64      | 55    |\n",
      "|exercise                  | object     | 4     |\n",
      "|sleep                     | float64    | 71    |\n",
      "|sugar_intake              | object     | 3     |\n",
      "|smoking                   | object     | 2     |\n",
      "|alcohol                   | object     | 2     |\n",
      "|married                   | object     | 2     |\n",
      "|profession                | object     | 8     |\n",
      "|bmi                       | float64    | 383   |\n",
      "|health_risk               | object     | 2     |\n",
      "  ---------------------------------------------   \n"
     ]
    }
   ],
   "source": [
    "# Resumen de las columnas + datos unicos por columna\n",
    "\n",
    "print(f\"{str(\"-----\"*9):^50}\")\n",
    "print(f\"|{\"Columna\":^25} | {\"Tipo\":^10} | {\"Unicos\":^5}| \")\n",
    "print(f\"{str(\"-----\"*9):^50}\")\n",
    "for name_col in df:\n",
    "    print(f\"|{name_col:<25} | {str(df[name_col].dtype):<10} | {str(df[name_col].nunique()):<5} |\")\n",
    "print(f\"{str(\"-----\"*9):^50}\")\n"
   ]
  }
 ],
 "metadata": {
  "kernelspec": {
   "display_name": "Proyecto",
   "language": "python",
   "name": "python3"
  },
  "language_info": {
   "codemirror_mode": {
    "name": "ipython",
    "version": 3
   },
   "file_extension": ".py",
   "mimetype": "text/x-python",
   "name": "python",
   "nbconvert_exporter": "python",
   "pygments_lexer": "ipython3",
   "version": "3.13.9"
  }
 },
 "nbformat": 4,
 "nbformat_minor": 5
}
